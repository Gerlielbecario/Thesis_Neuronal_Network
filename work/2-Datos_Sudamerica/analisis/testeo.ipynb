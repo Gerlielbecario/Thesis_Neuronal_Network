{
 "cells": [
  {
   "cell_type": "code",
   "execution_count": 49,
   "metadata": {},
   "outputs": [
    {
     "data": {
      "text/plain": [
       "'2023-07-30'"
      ]
     },
     "execution_count": 49,
     "metadata": {},
     "output_type": "execute_result"
    }
   ],
   "source": [
    "import pandas as pd\n",
    "import matplotlib.pyplot as plt\n",
    "import re\n",
    "\n",
    "class ConjuntoDeDatos:\n",
    "\n",
    "    def __init__(self,LISTA1=None,formato_fecha_lista1='YYYY-MM-DD',LISTA2=None,formato_fecha_lista2='YYYY-MM-DD',dos=False):\n",
    "        \n",
    "        #Propiedades\n",
    "\n",
    "        #Si se trabaja con 1 lista por defecto\n",
    "        self.acepta_dos_listas = dos #Desactiva o activa el uso de dos listas\n",
    "        self.lista_uno = LISTA1\n",
    "        self.lista_dos = LISTA2     #Ruta de la lista 2\n",
    "        self.formato1 = formato_fecha_lista1 #Formato de la lista 1 por defecto\n",
    "        self.formato2 = formato_fecha_lista2         #Formato de la lista 2 por defecto\n",
    "\n",
    "    def extraer_fecha(self,files=None,formato=None):\n",
    "\n",
    "        #Estas dos variables se definen o se usan las de init\n",
    "        formato = formato or self.formato1\n",
    "        files = files or self.lista_uno\n",
    "\n",
    "        if files is not None and formato=='YYYY-MM-DD':\n",
    "            # Patrón de expresión regular para buscar fechas en el nombre del archivo\n",
    "            patron_fecha = re.compile(r'\\d{4}-\\d{2}-\\d{2}')\n",
    "\n",
    "            # Buscar la fecha en la ruta del archivo\n",
    "            match = patron_fecha.search(files)\n",
    "\n",
    "            # Verificar si se encontró la fecha\n",
    "            if match:\n",
    "                return match.group()\n",
    "            else:\n",
    "                return None\n",
    "        \n",
    "        elif files is not None and formato=='YYYYMMDD':\n",
    "            return 'Agregar regex para este patron'\n",
    "        else:\n",
    "            return 'algo'\n",
    "    \n",
    "    def devuelve_fechas(self,files=None):\n",
    "\n",
    "        #Esta variable se define o se usa por defecto la de init\n",
    "        files = files or self.lista_uno\n",
    "        # Extraer fechas de cada ruta de archivo\n",
    "        fechas_extraidas = [self.extraer_fecha(ruta) for ruta in files]\n",
    "\n",
    "        # Filtrar las fechas nulas (donde no se encontró ninguna fecha)\n",
    "        fechas_validas = list(filter(None, fechas_extraidas))\n",
    "\n",
    "        \n",
    "        #Dataframe que contiene las fechas de cada archivo en formato YYYY-MM-DD\n",
    "        fechas_reales = pd.DataFrame({'Fecha': pd.to_datetime(fechas_validas)})\n",
    "        \n",
    "        if len(fechas_reales)==0:\n",
    "            self.legible = False\n",
    "            return 'Invalido'\n",
    "        else:\n",
    "            return fechas_reales\n",
    "    \n",
    "\n",
    "\n",
    "    def extrae_inicio(self,files=None,formato=None):\n",
    "\n",
    "        #Eleccion \n",
    "        files = files or self.lista_uno\n",
    "        formato  = formato or self.formato1\n",
    "\n",
    "        fechas_reales = self.devuelve_fechas(files)\n",
    "        inicio = fechas_reales['Fecha'].min()\n",
    "        if formato is None:\n",
    "            return inicio\n",
    "        elif formato=='YYYY-MM-DD':\n",
    "            return inicio.strftime('%Y-%m-%d')\n",
    "        else:\n",
    "            return 'Formato no disponible'\n",
    "        \n",
    "\n",
    "    def extrae_final(self,files=None,formato=None):\n",
    "\n",
    "        #Eleccion \n",
    "        files = files or self.lista_uno\n",
    "        formato  = formato or self.formato1\n",
    "\n",
    "        fechas_reales = self.devuelve_fechas(files)\n",
    "        final = fechas_reales['Fecha'].max()\n",
    "\n",
    "        if formato is None:\n",
    "            return final\n",
    "        elif formato=='YYYY-MM-DD':\n",
    "            return final.strftime('%Y-%m-%d')\n",
    "        else:\n",
    "            return 'Formato no disponible'\n",
    "\n",
    "\n",
    "\n",
    "lista_gsmap = glob.glob('/home/fernando.huaranca/datosmunin/Gsmap_24hs'+'/*.npz')\n",
    "\n",
    "gsmap = ConjuntoDeDatos(lista_gsmap)\n",
    "gsmap.extrae_final()"
   ]
  },
  {
   "cell_type": "code",
   "execution_count": 22,
   "metadata": {},
   "outputs": [
    {
     "ename": "TypeError",
     "evalue": "ConjuntoDeDatos.chequeo_fechas() missing 1 required positional argument: 'files'",
     "output_type": "error",
     "traceback": [
      "\u001b[0;31m---------------------------------------------------------------------------\u001b[0m",
      "\u001b[0;31mTypeError\u001b[0m                                 Traceback (most recent call last)",
      "Cell \u001b[0;32mIn[22], line 7\u001b[0m\n\u001b[1;32m      4\u001b[0m lista_gsmap \u001b[38;5;241m=\u001b[39m glob\u001b[38;5;241m.\u001b[39mglob(\u001b[38;5;124m'\u001b[39m\u001b[38;5;124m/home/fernando.huaranca/datosmunin/Gsmap_24hs\u001b[39m\u001b[38;5;124m'\u001b[39m\u001b[38;5;241m+\u001b[39m\u001b[38;5;124m'\u001b[39m\u001b[38;5;124m/*.npz\u001b[39m\u001b[38;5;124m'\u001b[39m)\n\u001b[1;32m      6\u001b[0m gsmap \u001b[38;5;241m=\u001b[39m ConjuntoDeDatos(LISTA1\u001b[38;5;241m=\u001b[39mlista_gsmap)\n\u001b[0;32m----> 7\u001b[0m \u001b[43mgsmap\u001b[49m\u001b[38;5;241;43m.\u001b[39;49m\u001b[43mchequeo_fechas\u001b[49m\u001b[43m(\u001b[49m\u001b[43m)\u001b[49m\n",
      "\u001b[0;31mTypeError\u001b[0m: ConjuntoDeDatos.chequeo_fechas() missing 1 required positional argument: 'files'"
     ]
    }
   ],
   "source": [
    "#probemos\n",
    "import glob\n",
    "lista_path = glob.glob('/home/fernando.huaranca/datosmunin/GFS_24hs'+'/*.npz')\n",
    "lista_gsmap = glob.glob('/home/fernando.huaranca/datosmunin/Gsmap_24hs'+'/*.npz')\n",
    "\n",
    "gsmap = ConjuntoDeDatos(LISTA1=lista_gsmap)\n",
    "gsmap.chequeo_fechas()\n"
   ]
  },
  {
   "cell_type": "code",
   "execution_count": 14,
   "metadata": {},
   "outputs": [],
   "source": [
    "gsmap = ConjuntoDeDatos(LISTA1=lista_gsmap)"
   ]
  },
  {
   "cell_type": "code",
   "execution_count": 15,
   "metadata": {},
   "outputs": [
    {
     "ename": "TypeError",
     "evalue": "'ConjuntoDeDatos' object is not iterable",
     "output_type": "error",
     "traceback": [
      "\u001b[0;31m---------------------------------------------------------------------------\u001b[0m",
      "\u001b[0;31mTypeError\u001b[0m                                 Traceback (most recent call last)",
      "Cell \u001b[0;32mIn[15], line 1\u001b[0m\n\u001b[0;32m----> 1\u001b[0m \u001b[43mgsmap\u001b[49m\u001b[38;5;241;43m.\u001b[39;49m\u001b[43mchequeo_fechas\u001b[49m\u001b[43m(\u001b[49m\u001b[43m)\u001b[49m\n",
      "Cell \u001b[0;32mIn[13], line 40\u001b[0m, in \u001b[0;36mConjuntoDeDatos.chequeo_fechas\u001b[0;34m(files)\u001b[0m\n\u001b[1;32m     38\u001b[0m \u001b[38;5;28;01mdef\u001b[39;00m \u001b[38;5;21mchequeo_fechas\u001b[39m(files):\n\u001b[1;32m     39\u001b[0m     \u001b[38;5;66;03m# Extraer fechas de cada ruta de archivo\u001b[39;00m\n\u001b[0;32m---> 40\u001b[0m     fechas_extraidas \u001b[38;5;241m=\u001b[39m [extraer_fecha(ruta) \u001b[38;5;28;01mfor\u001b[39;00m ruta \u001b[38;5;129;01min\u001b[39;00m files]\n\u001b[1;32m     42\u001b[0m     \u001b[38;5;66;03m# Filtrar las fechas nulas (donde no se encontró ninguna fecha)\u001b[39;00m\n\u001b[1;32m     43\u001b[0m     fechas_validas \u001b[38;5;241m=\u001b[39m \u001b[38;5;28mlist\u001b[39m(\u001b[38;5;28mfilter\u001b[39m(\u001b[38;5;28;01mNone\u001b[39;00m, fechas_extraidas))\n",
      "\u001b[0;31mTypeError\u001b[0m: 'ConjuntoDeDatos' object is not iterable"
     ]
    }
   ],
   "source": [
    "gsmap.chequeo_fechas()"
   ]
  },
  {
   "cell_type": "code",
   "execution_count": 2,
   "metadata": {},
   "outputs": [],
   "source": [
    "#probemos\n",
    "import glob\n",
    "lista_path = glob.glob('/home/fernando.huaranca/datosmunin/GFS_24hs'+'/*.npz')\n",
    "lista_gsmap = glob.glob('/home/fernando.huaranca/datosmunin/Gsmap_24hs'+'/*.npz')\n"
   ]
  },
  {
   "cell_type": "code",
   "execution_count": 9,
   "metadata": {},
   "outputs": [],
   "source": [
    "gsmap = ConjuntoDeDatos(lista_path)\n",
    "\n",
    "\n"
   ]
  },
  {
   "cell_type": "code",
   "execution_count": null,
   "metadata": {},
   "outputs": [],
   "source": []
  }
 ],
 "metadata": {
  "kernelspec": {
   "display_name": "tesis",
   "language": "python",
   "name": "python3"
  },
  "language_info": {
   "codemirror_mode": {
    "name": "ipython",
    "version": 3
   },
   "file_extension": ".py",
   "mimetype": "text/x-python",
   "name": "python",
   "nbconvert_exporter": "python",
   "pygments_lexer": "ipython3",
   "version": "3.10.12"
  }
 },
 "nbformat": 4,
 "nbformat_minor": 2
}
