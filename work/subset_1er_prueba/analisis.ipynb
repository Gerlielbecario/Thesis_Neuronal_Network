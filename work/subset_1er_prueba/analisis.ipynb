{
 "cells": [
  {
   "cell_type": "code",
   "execution_count": 1,
   "metadata": {},
   "outputs": [],
   "source": [
    "import os\n",
    "import glob\n",
    "import pandas as pd\n",
    "import numpy as np\n"
   ]
  },
  {
   "cell_type": "code",
   "execution_count": 12,
   "metadata": {},
   "outputs": [
    {
     "name": "stdout",
     "output_type": "stream",
     "text": [
      "Cantidad de bines:  1000\n"
     ]
    }
   ],
   "source": [
    "bins = np.arange(10**(-5),1000,1)\n",
    "print('Cantidad de bines: ',len(bins))\n",
    "\n",
    "inicio = False"
   ]
  },
  {
   "cell_type": "code",
   "execution_count": 29,
   "metadata": {},
   "outputs": [],
   "source": [
    "#EL PATH DE DATOS DE SUBSSET DE SUDAMERICA DE GFS \n",
    "path = '/home/fernando.huaranca/datosmunin/subset/gfs'\n",
    "\n",
    "#EL PATH DE DATOS DE SUBSSET DE SUDAMERICA DE GSMAP\n",
    "#path = '/home/fernando.huaranca/datosmunin/subset/gsmap'"
   ]
  },
  {
   "cell_type": "code",
   "execution_count": 30,
   "metadata": {},
   "outputs": [],
   "source": [
    "files = glob.glob(path+'/*.npz')\n",
    "\n",
    "for file in files:\n",
    "\n",
    "    #Cargamos el archivo\n",
    "    datos = np.load(file)\n",
    "\n",
    "    #Extraemos los datos\n",
    "    pp = datos['pp_daily']\n",
    "\n",
    "    #Si mi variable inicio no es verdadera crea un histograma y \n",
    "    #luego cambia a la variable inicio por verdadera\n",
    "    if not inicio:\n",
    "        histo = np.histogram(pp,bins)[0] \n",
    "        inicio = True\n",
    "    else:\n",
    "        #Va almacenando en el mismo histograma las frecuencias\n",
    "        histo = histo + np.histogram(pp,bins)[0] \n"
   ]
  },
  {
   "cell_type": "code",
   "execution_count": 31,
   "metadata": {},
   "outputs": [
    {
     "name": "stderr",
     "output_type": "stream",
     "text": [
      "/tmp/ipykernel_37106/2018570566.py:4: RuntimeWarning: divide by zero encountered in log\n",
      "  plt.bar(bins[:-1], np.log(histo))\n"
     ]
    },
    {
     "data": {
      "image/png": "[encoded data removed]",
      "text/plain": [
       "<Figure size 640x480 with 1 Axes>"
      ]
     },
     "metadata": {},
     "output_type": "display_data"
    }
   ],
   "source": [
    "import matplotlib.pyplot as plt\n",
    "#ancho_barras = [bins[i+1] - bins[i] for i in range(len(bins) - 1)]\n",
    "#plt.bar(bins[4:-1], gfs_histo[3:-1])\n",
    "plt.bar(bins[:-1], np.log(histo))\n",
    "#rango_inicio = 0  # Define el inicio del rango\n",
    "#rango_fin = 100  # Define el final del rango\n",
    "#plt.xlim(rango_inicio, rango_fin)  # Establecer el rango en el eje x\n",
    "\n",
    "#siempre se guarda antes de mostrar\n",
    "plt.savefig('/home/fernando.huaranca/datosmunin2/Thesis_Neuronal_Network/work/subset_1er_prueba/salidas/gfs_hist.png',dpi=300)\n",
    "plt.show()\n"
   ]
  },
  {
   "cell_type": "code",
   "execution_count": 26,
   "metadata": {},
   "outputs": [
    {
     "data": {
      "text/plain": [
       "<Figure size 640x480 with 0 Axes>"
      ]
     },
     "metadata": {},
     "output_type": "display_data"
    }
   ],
   "source": [
    "plt.savefig('/home/fernando.huaranca/datosmunin/subset/salidas/gsmap_hist.png',dpi=300)"
   ]
  },
  {
   "cell_type": "markdown",
   "metadata": {},
   "source": [
    "# Matriz confusion (codigo extraido de otro repo q habia ehcho)"
   ]
  },
  {
   "cell_type": "code",
   "execution_count": 38,
   "metadata": {},
   "outputs": [
    {
     "name": "stdout",
     "output_type": "stream",
     "text": [
      "El umbral elegido es 25 mm\n",
      "Leyendo rutas de archivos\n",
      "Cantidad de archivos a leer:  31\n",
      "Inicia el bucle\n",
      "El porcentaje es:  3.225806451612903 %\n",
      "Cantidad de archivos fallados:  0\n",
      "El porcentaje es:  6.451612903225806 %\n",
      "Cantidad de archivos fallados:  0\n",
      "El porcentaje es:  9.67741935483871 %\n",
      "Cantidad de archivos fallados:  0\n",
      "El porcentaje es:  12.903225806451612 %\n",
      "Cantidad de archivos fallados:  0\n",
      "El porcentaje es:  16.129032258064516 %\n",
      "Cantidad de archivos fallados:  0\n",
      "El porcentaje es:  19.35483870967742 %\n",
      "Cantidad de archivos fallados:  0\n",
      "El porcentaje es:  22.58064516129032 %\n",
      "Cantidad de archivos fallados:  0\n",
      "El porcentaje es:  25.806451612903224 %\n",
      "Cantidad de archivos fallados:  0\n",
      "El porcentaje es:  29.03225806451613 %\n",
      "Cantidad de archivos fallados:  0\n",
      "El porcentaje es:  32.25806451612903 %\n",
      "Cantidad de archivos fallados:  0\n",
      "El porcentaje es:  35.483870967741936 %\n",
      "Cantidad de archivos fallados:  0\n",
      "El porcentaje es:  38.70967741935484 %\n",
      "Cantidad de archivos fallados:  0\n",
      "El porcentaje es:  41.935483870967744 %\n",
      "Cantidad de archivos fallados:  0\n",
      "El porcentaje es:  45.16129032258064 %\n",
      "Cantidad de archivos fallados:  0\n",
      "El porcentaje es:  48.38709677419355 %\n",
      "Cantidad de archivos fallados:  0\n",
      "El porcentaje es:  51.61290322580645 %\n",
      "Cantidad de archivos fallados:  0\n",
      "El porcentaje es:  54.83870967741935 %\n",
      "Cantidad de archivos fallados:  0\n",
      "El porcentaje es:  58.06451612903226 %\n",
      "Cantidad de archivos fallados:  0\n",
      "El porcentaje es:  61.29032258064516 %\n",
      "Cantidad de archivos fallados:  0\n",
      "El porcentaje es:  64.51612903225806 %\n",
      "Cantidad de archivos fallados:  0\n",
      "El porcentaje es:  67.74193548387096 %\n",
      "Cantidad de archivos fallados:  0\n",
      "El porcentaje es:  70.96774193548387 %\n",
      "Cantidad de archivos fallados:  0\n",
      "El porcentaje es:  74.19354838709677 %\n",
      "Cantidad de archivos fallados:  0\n",
      "El porcentaje es:  77.41935483870968 %\n",
      "Cantidad de archivos fallados:  0\n",
      "El porcentaje es:  80.64516129032258 %\n",
      "Cantidad de archivos fallados:  0\n",
      "El porcentaje es:  83.87096774193549 %\n",
      "Cantidad de archivos fallados:  0\n",
      "El porcentaje es:  87.09677419354838 %\n",
      "Cantidad de archivos fallados:  0\n",
      "El porcentaje es:  90.32258064516128 %\n",
      "Cantidad de archivos fallados:  0\n",
      "El porcentaje es:  93.54838709677419 %\n",
      "Cantidad de archivos fallados:  0\n",
      "El porcentaje es:  96.7741935483871 %\n",
      "Cantidad de archivos fallados:  0\n",
      "El porcentaje es:  100.0 %\n",
      "Cantidad de archivos fallados:  0\n",
      "Guardando matriz de confusion para el umbral 25 mm\n",
      "Proceso completado!\n"
     ]
    }
   ],
   "source": [
    "#Librerias\n",
    "from sklearn.metrics import confusion_matrix\n",
    "\n",
    "#Parametros\n",
    "\n",
    "umbral = 25  #definimos un umbral\n",
    "print(f'El umbral elegido es {umbral} mm')\n",
    "\n",
    "#Rutas \n",
    "print('Leyendo rutas de archivos')\n",
    "folder_gfs = '/home/fernando.huaranca/datosmunin/subset/gfs'\n",
    "folder_gsmap = '/home/fernando.huaranca/datosmunin/subset/gsmap'\n",
    "\n",
    "#Leo los elementos de cualquiera de las dos carpetas en este caso se llaman igual\n",
    "FileS = os.listdir(folder_gfs)\n",
    "#Esto es para que en el primer archivo cree la matriz de confusion\n",
    "inicio = True\n",
    "\n",
    "#Porcentaje\n",
    "total = len(FileS)\n",
    "i = 0\n",
    "\n",
    "fallidos = []\n",
    "print('Cantidad de archivos a leer: ', total)\n",
    "\n",
    "print('Inicia el bucle')\n",
    "for file in FileS:\n",
    "\n",
    "    i = i +1\n",
    "    porcentaje = (i/total) * 100\n",
    "\n",
    "    #Ruta de los archivos de GFS\n",
    "    try:\n",
    "        path_gfs = os.path.join(folder_gfs,file)\n",
    "\n",
    "        #Ruta de los archivos de GSMAP\n",
    "        path_gsmap = os.path.join(folder_gsmap,file)\n",
    "\n",
    "        #Cargamos los archivos npz\n",
    "        gfs = np.load(path_gfs)\n",
    "        gsmap = np.load(path_gsmap)\n",
    "\n",
    "        #Hacemos un reshape a 1dimension y tomamos los valores mayores a ese rango\n",
    "        label = gfs['pp_daily'].ravel() >= umbral\n",
    "        target = gsmap['pp_daily'].ravel() >=umbral\n",
    "\n",
    "        #Definimos la matriz de confusion \n",
    "        #y_true: Los valores verdaderos\n",
    "        #y_pred: Los valores predichos\n",
    "        #labels: -True: LLovio mas del umbral\n",
    "        #        -False: Llovio menos del umbral\n",
    "        #TP, FN,FP,TN\n",
    "\n",
    "        #Para el primer archivo que lee crea la matriz de confusion\n",
    "        if inicio:\n",
    "            cm = confusion_matrix(y_true=target,y_pred=label,labels=[True,False])\n",
    "\n",
    "            #Hacemos que la variable boleana pase a ser false\n",
    "            inicio = False\n",
    "        else:\n",
    "            cm = np.sum([cm,confusion_matrix(y_true=target,y_pred=label,labels=[True,False])],axis=0)\n",
    "    \n",
    "    except Exception as e:\n",
    "        print(f'Error al procesar el archivo {file}: {str(e)}')\n",
    "        fallidos.append(file)\n",
    "\n",
    "    print('El porcentaje es: ',porcentaje,'%')\n",
    "    print('Cantidad de archivos fallados: ',len(fallidos))\n",
    "\n",
    "\n",
    "print(f'Guardando matriz de confusion para el umbral {umbral} mm')\n",
    "outpath = f'/home/fernando.huaranca/datosmunin2/Thesis_Neuronal_Network/work/subset_1er_prueba/salidas/cm_umbral_{umbral}_mm.npz'\n",
    "np.savez(outpath,cm = cm,umbral = umbral)\n",
    "\n",
    "print('Proceso completado!')"
   ]
  }
 ],
 "metadata": {
  "kernelspec": {
   "display_name": "tesis",
   "language": "python",
   "name": "python3"
  },
  "language_info": {
   "codemirror_mode": {
    "name": "ipython",
    "version": 3
   },
   "file_extension": ".py",
   "mimetype": "text/x-python",
   "name": "python",
   "nbconvert_exporter": "python",
   "pygments_lexer": "ipython3",
   "version": "3.10.12"
  }
 },
 "nbformat": 4,
 "nbformat_minor": 2
}
