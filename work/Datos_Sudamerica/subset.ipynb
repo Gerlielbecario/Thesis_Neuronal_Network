{
 "cells": [
  {
   "cell_type": "markdown",
   "metadata": {},
   "source": [
    "# Codigo para subsetear npz"
   ]
  },
  {
   "cell_type": "code",
   "execution_count": 36,
   "metadata": {},
   "outputs": [],
   "source": [
    "import os\n",
    "import glob\n",
    "import pandas as pd\n",
    "import numpy as np"
   ]
  },
  {
   "cell_type": "code",
   "execution_count": 37,
   "metadata": {},
   "outputs": [],
   "source": [
    "#Ruta de los archivos \n",
    "folder_gfs = '/home/fernando.huaranca/datosmunin/GFS_24hs'\n",
    "folder_gsmap = '/home/fernando.huaranca/datosmunin/Gsmap_24hs'\n",
    "\n",
    "#Lista de archivos de verano de 2018\n",
    "gfs_verano = glob.glob(folder_gfs+'/*_2018-01-*.npz')\n",
    "gsmap_verano = glob.glob(folder_gsmap+'/*_2018-01-*.npz')"
   ]
  },
  {
   "cell_type": "code",
   "execution_count": 38,
   "metadata": {},
   "outputs": [],
   "source": [
    "#Region para el subset\n",
    "lat_north = -10\n",
    "lat_south = -20\n",
    "lon_east = 310\n",
    "lon_west = 300"
   ]
  },
  {
   "cell_type": "code",
   "execution_count": 41,
   "metadata": {},
   "outputs": [],
   "source": [
    "outpath = '/home/fernando.huaranca/datosmunin/subset/gfs'"
   ]
  },
  {
   "cell_type": "code",
   "execution_count": 42,
   "metadata": {},
   "outputs": [
    {
     "name": "stdout",
     "output_type": "stream",
     "text": [
      "/home/fernando.huaranca/datosmunin/subset/gfs/2018-01-31.npz\n",
      "/home/fernando.huaranca/datosmunin/subset/gfs/2018-01-30.npz\n",
      "/home/fernando.huaranca/datosmunin/subset/gfs/2018-01-21.npz\n",
      "/home/fernando.huaranca/datosmunin/subset/gfs/2018-01-14.npz\n",
      "/home/fernando.huaranca/datosmunin/subset/gfs/2018-01-29.npz\n",
      "/home/fernando.huaranca/datosmunin/subset/gfs/2018-01-25.npz\n",
      "/home/fernando.huaranca/datosmunin/subset/gfs/2018-01-02.npz\n",
      "/home/fernando.huaranca/datosmunin/subset/gfs/2018-01-16.npz\n",
      "/home/fernando.huaranca/datosmunin/subset/gfs/2018-01-01.npz\n",
      "/home/fernando.huaranca/datosmunin/subset/gfs/2018-01-05.npz\n",
      "/home/fernando.huaranca/datosmunin/subset/gfs/2018-01-19.npz\n",
      "/home/fernando.huaranca/datosmunin/subset/gfs/2018-01-10.npz\n",
      "/home/fernando.huaranca/datosmunin/subset/gfs/2018-01-07.npz\n",
      "/home/fernando.huaranca/datosmunin/subset/gfs/2018-01-09.npz\n",
      "/home/fernando.huaranca/datosmunin/subset/gfs/2018-01-18.npz\n",
      "/home/fernando.huaranca/datosmunin/subset/gfs/2018-01-27.npz\n",
      "/home/fernando.huaranca/datosmunin/subset/gfs/2018-01-06.npz\n",
      "/home/fernando.huaranca/datosmunin/subset/gfs/2018-01-13.npz\n",
      "/home/fernando.huaranca/datosmunin/subset/gfs/2018-01-22.npz\n",
      "/home/fernando.huaranca/datosmunin/subset/gfs/2018-01-24.npz\n",
      "/home/fernando.huaranca/datosmunin/subset/gfs/2018-01-26.npz\n",
      "/home/fernando.huaranca/datosmunin/subset/gfs/2018-01-12.npz\n",
      "/home/fernando.huaranca/datosmunin/subset/gfs/2018-01-15.npz\n",
      "/home/fernando.huaranca/datosmunin/subset/gfs/2018-01-20.npz\n",
      "/home/fernando.huaranca/datosmunin/subset/gfs/2018-01-11.npz\n",
      "/home/fernando.huaranca/datosmunin/subset/gfs/2018-01-08.npz\n",
      "/home/fernando.huaranca/datosmunin/subset/gfs/2018-01-17.npz\n",
      "/home/fernando.huaranca/datosmunin/subset/gfs/2018-01-04.npz\n",
      "/home/fernando.huaranca/datosmunin/subset/gfs/2018-01-03.npz\n",
      "/home/fernando.huaranca/datosmunin/subset/gfs/2018-01-28.npz\n",
      "/home/fernando.huaranca/datosmunin/subset/gfs/2018-01-23.npz\n"
     ]
    }
   ],
   "source": [
    "#Variable para la primera iteracion\n",
    "var = True\n",
    "\n",
    "#Bucle\n",
    "for file in gfs_verano:\n",
    "    #Cargamos el .npz\n",
    "    data = np.load(file)\n",
    "   # print(file)\n",
    "    if var:\n",
    "                \n",
    "        #Extraemos las latitudes\n",
    "        lat = data['latitudes']\n",
    "\n",
    "        #Tomamos los indices de las mismas\n",
    "        lat_index = np.where((lat <=lat_north) & (lat >= lat_south))[0]\n",
    "\n",
    "        #Seleccionamos \n",
    "        lat = lat[lat_index]\n",
    "\n",
    "        #Extraemos las longitudes\n",
    "        lon = data['longitudes']\n",
    "\n",
    "        lon_index = np.where((lon >= lon_west) & (lon <= lon_east))[0]\n",
    "\n",
    "        lon = lon[lon_index]\n",
    "\n",
    "        #Extraemos los datos de precipitacion\n",
    "        pp = data['pp_daily']\n",
    "\n",
    "        pp = pp[lat_index.min():lat_index.max()+1,lon_index.min():lon_index.max()+1]\n",
    "        var = False\n",
    "    else:\n",
    "        \n",
    "        pp = data['pp_daily']\n",
    "        pp = pp[lat_index.min():lat_index.max()+1,\n",
    "                lon_index.min():lon_index.max()+1]\n",
    "\n",
    "    #Aca ya tiene el nombre el .npz\n",
    "    nombre_archivo = file.split('_')[-1]\n",
    "    ruta_destino = os.path.join(outpath,nombre_archivo)\n",
    "    print(ruta_destino)\n",
    "\n",
    "    np.savez(ruta_destino,pp_daily=pp,latitudes=lat,longitudes=lon)\n",
    "\n",
    "\n",
    "\n",
    "\n",
    "\n",
    "    "
   ]
  },
  {
   "cell_type": "code",
   "execution_count": 11,
   "metadata": {},
   "outputs": [
    {
     "data": {
      "text/plain": [
       "array([ 15.  ,  14.75,  14.5 ,  14.25,  14.  ,  13.75,  13.5 ,  13.25,\n",
       "        13.  ,  12.75,  12.5 ,  12.25,  12.  ,  11.75,  11.5 ,  11.25,\n",
       "        11.  ,  10.75,  10.5 ,  10.25,  10.  ,   9.75,   9.5 ,   9.25,\n",
       "         9.  ,   8.75,   8.5 ,   8.25,   8.  ,   7.75,   7.5 ,   7.25,\n",
       "         7.  ,   6.75,   6.5 ,   6.25,   6.  ,   5.75,   5.5 ,   5.25,\n",
       "         5.  ,   4.75,   4.5 ,   4.25,   4.  ,   3.75,   3.5 ,   3.25,\n",
       "         3.  ,   2.75,   2.5 ,   2.25,   2.  ,   1.75,   1.5 ,   1.25,\n",
       "         1.  ,   0.75,   0.5 ,   0.25,   0.  ,  -0.25,  -0.5 ,  -0.75,\n",
       "        -1.  ,  -1.25,  -1.5 ,  -1.75,  -2.  ,  -2.25,  -2.5 ,  -2.75,\n",
       "        -3.  ,  -3.25,  -3.5 ,  -3.75,  -4.  ,  -4.25,  -4.5 ,  -4.75,\n",
       "        -5.  ,  -5.25,  -5.5 ,  -5.75,  -6.  ,  -6.25,  -6.5 ,  -6.75,\n",
       "        -7.  ,  -7.25,  -7.5 ,  -7.75,  -8.  ,  -8.25,  -8.5 ,  -8.75,\n",
       "        -9.  ,  -9.25,  -9.5 ,  -9.75, -10.  , -10.25, -10.5 , -10.75,\n",
       "       -11.  , -11.25, -11.5 , -11.75, -12.  , -12.25, -12.5 , -12.75,\n",
       "       -13.  , -13.25, -13.5 , -13.75, -14.  , -14.25, -14.5 , -14.75,\n",
       "       -15.  , -15.25, -15.5 , -15.75, -16.  , -16.25, -16.5 , -16.75,\n",
       "       -17.  , -17.25, -17.5 , -17.75, -18.  , -18.25, -18.5 , -18.75,\n",
       "       -19.  , -19.25, -19.5 , -19.75, -20.  , -20.25, -20.5 , -20.75,\n",
       "       -21.  , -21.25, -21.5 , -21.75, -22.  , -22.25, -22.5 , -22.75,\n",
       "       -23.  , -23.25, -23.5 , -23.75, -24.  , -24.25, -24.5 , -24.75,\n",
       "       -25.  , -25.25, -25.5 , -25.75, -26.  , -26.25, -26.5 , -26.75,\n",
       "       -27.  , -27.25, -27.5 , -27.75, -28.  , -28.25, -28.5 , -28.75,\n",
       "       -29.  , -29.25, -29.5 , -29.75, -30.  , -30.25, -30.5 , -30.75,\n",
       "       -31.  , -31.25, -31.5 , -31.75, -32.  , -32.25, -32.5 , -32.75,\n",
       "       -33.  , -33.25, -33.5 , -33.75, -34.  , -34.25, -34.5 , -34.75,\n",
       "       -35.  , -35.25, -35.5 , -35.75, -36.  , -36.25, -36.5 , -36.75,\n",
       "       -37.  , -37.25, -37.5 , -37.75, -38.  , -38.25, -38.5 , -38.75,\n",
       "       -39.  , -39.25, -39.5 , -39.75, -40.  , -40.25, -40.5 , -40.75,\n",
       "       -41.  , -41.25, -41.5 , -41.75, -42.  , -42.25, -42.5 , -42.75,\n",
       "       -43.  , -43.25, -43.5 , -43.75, -44.  , -44.25, -44.5 , -44.75,\n",
       "       -45.  , -45.25, -45.5 , -45.75, -46.  , -46.25, -46.5 , -46.75,\n",
       "       -47.  , -47.25, -47.5 , -47.75, -48.  , -48.25, -48.5 , -48.75,\n",
       "       -49.  , -49.25, -49.5 , -49.75, -50.  , -50.25, -50.5 , -50.75,\n",
       "       -51.  , -51.25, -51.5 , -51.75, -52.  , -52.25, -52.5 , -52.75,\n",
       "       -53.  , -53.25, -53.5 , -53.75, -54.  , -54.25, -54.5 , -54.75,\n",
       "       -55.  , -55.25, -55.5 , -55.75, -56.  , -56.25, -56.5 , -56.75,\n",
       "       -57.  , -57.25, -57.5 , -57.75, -58.  , -58.25, -58.5 , -58.75,\n",
       "       -59.  ])"
      ]
     },
     "execution_count": 11,
     "metadata": {},
     "output_type": "execute_result"
    }
   ],
   "source": [
    "lat = a['latitudes']\n",
    "lat"
   ]
  },
  {
   "cell_type": "code",
   "execution_count": 12,
   "metadata": {},
   "outputs": [
    {
     "data": {
      "text/plain": [
       "array([-10.  , -10.25, -10.5 , -10.75, -11.  , -11.25, -11.5 , -11.75,\n",
       "       -12.  , -12.25, -12.5 , -12.75, -13.  , -13.25, -13.5 , -13.75,\n",
       "       -14.  , -14.25, -14.5 , -14.75, -15.  , -15.25, -15.5 , -15.75,\n",
       "       -16.  , -16.25, -16.5 , -16.75, -17.  , -17.25, -17.5 , -17.75,\n",
       "       -18.  , -18.25, -18.5 , -18.75, -19.  , -19.25, -19.5 , -19.75,\n",
       "       -20.  ])"
      ]
     },
     "execution_count": 12,
     "metadata": {},
     "output_type": "execute_result"
    }
   ],
   "source": [
    "\n",
    "lat_index = np.where((lat <=lat_north) & (lat >= lat_south))[0]\n",
    "\n",
    "\n",
    "lat = lat[lat_index]\n",
    "\n",
    "lat"
   ]
  },
  {
   "cell_type": "code",
   "execution_count": null,
   "metadata": {},
   "outputs": [],
   "source": []
  }
 ],
 "metadata": {
  "kernelspec": {
   "display_name": "tesis",
   "language": "python",
   "name": "python3"
  },
  "language_info": {
   "codemirror_mode": {
    "name": "ipython",
    "version": 3
   },
   "file_extension": ".py",
   "mimetype": "text/x-python",
   "name": "python",
   "nbconvert_exporter": "python",
   "pygments_lexer": "ipython3",
   "version": "3.10.12"
  }
 },
 "nbformat": 4,
 "nbformat_minor": 2
}
