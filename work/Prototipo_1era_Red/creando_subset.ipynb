{
 "cells": [
  {
   "cell_type": "code",
   "execution_count": 1,
   "metadata": {},
   "outputs": [],
   "source": [
    "import numpy as np\n",
    "import os\n",
    "import glob"
   ]
  },
  {
   "cell_type": "code",
   "execution_count": null,
   "metadata": {},
   "outputs": [],
   "source": [
    "folder_gfs_subset = '/home/fernando.huaranca/datosmunin/subset/gfs'\n",
    "folder_gsmap_subset = '/home/fernando.huaranca/datosmunin/subset/gsmap'\n",
    "\n",
    "#Lista de archivos\n",
    "Files_gfs = os.listdir(folder_gfs_subset)"
   ]
  },
  {
   "cell_type": "markdown",
   "metadata": {},
   "source": [
    "el codigo se perdio pero masomenos sabes como hacerlo"
   ]
  },
  {
   "cell_type": "code",
   "execution_count": null,
   "metadata": {},
   "outputs": [],
   "source": [
    "lista_npz = []\n",
    "\n",
    "for file in Files_gfs:\n",
    "\n",
    "    #Cargamos el directorio\n",
    "    path = os.path.join(folder_gfs_subset,file)\n",
    "    \n",
    "    #Cargamos el archivo .npz\n",
    "    data = np.load(path)\n",
    "    pp_daily = data['pp_daily']\n",
    "\n",
    "    lista_npz.append(pp_daily)\n",
    "conjunto = np.stack(lista_npz,axis=0)"
   ]
  },
  {
   "cell_type": "markdown",
   "metadata": {},
   "source": [
    "lista_npz = []\n",
    "\n",
    "for file in Files_gfs:\n",
    "\n",
    "    #Cargamos el directorio\n",
    "    path = os.path.join(folder_gfs_subset,file)\n",
    "    \n",
    "    #Cargamos el archivo .npz\n",
    "    data = np.load(path)\n",
    "    pp_daily = data['pp_daily']\n",
    "\n",
    "    lista_npz.append(pp_daily)\n",
    "conjunto = np.stack(lista_npz,axis=0)"
   ]
  },
  {
   "cell_type": "code",
   "execution_count": null,
   "metadata": {},
   "outputs": [],
   "source": [
    "#Librerias\n",
    "import os\n",
    "import numpy as np\n",
    "\n",
    "def obtener_data(path_input,path_target,var_input,var_target,train_ratio, val_ratio, test_ratio):\n",
    "\n",
    "\n",
    "    #---Esta seccion puede ser actualizada en base a definir que tipo de extension entra pro ejemplo csv,npz\n",
    "    #Lectura de .npz en Path input\n",
    "    Files_Input = os.listdir(path_input)\n",
    "\n",
    "    #Lectura de .npz de Path Target\n",
    "    Files_Target = os.listdir(path_input)\n",
    "\n",
    "    #--------------------\n",
    "    \n",
    "    #\n",
    "\n"
   ]
  }
 ],
 "metadata": {
  "kernelspec": {
   "display_name": "tesis",
   "language": "python",
   "name": "python3"
  },
  "language_info": {
   "codemirror_mode": {
    "name": "ipython",
    "version": 3
   },
   "file_extension": ".py",
   "mimetype": "text/x-python",
   "name": "python",
   "nbconvert_exporter": "python",
   "pygments_lexer": "ipython3",
   "version": "3.10.12"
  },
  "orig_nbformat": 4
 },
 "nbformat": 4,
 "nbformat_minor": 2
}
