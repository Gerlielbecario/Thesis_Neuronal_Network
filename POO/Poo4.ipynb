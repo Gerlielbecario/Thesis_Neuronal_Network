{
 "cells": [
  {
   "cell_type": "markdown",
   "metadata": {},
   "source": [
    "# Encapsulacion de metodos"
   ]
  },
  {
   "cell_type": "markdown",
   "metadata": {},
   "source": [
    "En este notebook realizamos modificaciones a la clase con la que estuvimos trabajando"
   ]
  },
  {
   "cell_type": "markdown",
   "metadata": {},
   "source": [
    "¿que utilidad puede tener que podamos acceder a un metodo desde la propia clase y no desde afuera?"
   ]
  },
  {
   "cell_type": "code",
   "execution_count": 14,
   "metadata": {},
   "outputs": [],
   "source": [
    "class Coche():\n",
    "\n",
    "    #Constructor (estado inicial)\n",
    "\n",
    "    def __init__(self):\n",
    "        #tiene un self antes para que esten vinculadas con el objeto\n",
    "        #y no queden solamente definidas en init\n",
    "        self.__largoChasis = 250 #primera propiedad de la clase coche\n",
    "        self.__anchoChasis = 120 #propiedad 2\n",
    "        self.__ruedas = 4\n",
    "        self.__enmarcha = False #todos los coches estan detenidos\n",
    "\n",
    "    #Metodos (comportamientos)\n",
    "    \n",
    "    def arrancar(self,arrancamos):\n",
    "        self.__enmarcha = arrancamos #hay que agregarle self adelante para poder cambiar la propiedad\n",
    "\n",
    "        # Si en marcha es true almacena chequeo intenro\n",
    "        if (self.__enmarcha):\n",
    "            chequeo = self.chequeo_interno()\n",
    "\n",
    "        #Si esta en marcha y el chequeo esta ok\n",
    "        if (self.__enmarcha and chequeo):\n",
    "            return 'El coche esta en marcha'\n",
    "        elif (self.__enmarcha and chequeo==False):\n",
    "            return 'Algo ha ido mal en el chequeo no es posible arrancar'\n",
    "        else:\n",
    "            return 'El coche esta parado'\n",
    "    \n",
    "    #Nos informa las propiedades del objeto\n",
    "    def estado(self):\n",
    "\n",
    "        #Ponemos los dos guiones bajos que preceden el nombre completo\n",
    "        print('El coche tiene',self.__ruedas,'ruedas')\n",
    "        print('El largo de chasis es de ',self.__largoChasis,' metros')\n",
    "\n",
    "    def chequeo_interno(self):\n",
    "        print('Realizando chequeo interno')\n",
    "        self.gasolina = 'ok'\n",
    "        self.aceite = 'ok'\n",
    "        self.puertas = 'cerradas'\n",
    "    \n",
    "        if (self.gasolina == 'ok' and self.aceite == 'ok' and self.puertas == 'cerradas'):\n",
    "            return True\n",
    "        else:\n",
    "            return False\n",
    "    \n",
    "\n"
   ]
  },
  {
   "cell_type": "code",
   "execution_count": 15,
   "metadata": {},
   "outputs": [
    {
     "name": "stdout",
     "output_type": "stream",
     "text": [
      "Realizando chequeo interno\n",
      "El coche esta en marcha\n",
      "El coche tiene 4 ruedas\n",
      "El largo de chasis es de  250  metros\n"
     ]
    }
   ],
   "source": [
    "micoche = Coche()\n",
    "print(micoche.arrancar(True))\n",
    "micoche.estado()"
   ]
  },
  {
   "cell_type": "markdown",
   "metadata": {},
   "source": [
    "¿Es logico que un objeto de tipo coche sea capaz de realizar un chequeo interno si no lo hemos arrancado? \n",
    "\n",
    "No tiene sentido que podamos acceder a chequeo interno sino lo hemos arrancado, entonces debemos bloquear esto, encapsulandolo.\n",
    "\n"
   ]
  },
  {
   "cell_type": "markdown",
   "metadata": {},
   "source": [
    "De la misma manera podriamos llamar a chequeo interno para un objeto coche que no haya arrancado"
   ]
  },
  {
   "cell_type": "code",
   "execution_count": 17,
   "metadata": {},
   "outputs": [
    {
     "name": "stdout",
     "output_type": "stream",
     "text": [
      "Realizando chequeo interno\n",
      "True\n"
     ]
    }
   ],
   "source": [
    "micoche2 = Coche()\n",
    "micoche2.arrancar(False)\n",
    "print(micoche2.chequeo_interno())"
   ]
  },
  {
   "cell_type": "markdown",
   "metadata": {},
   "source": [
    "Hay que encapsular esto para que no podamos usarlo desde fuera, sino solo desde dentro"
   ]
  },
  {
   "cell_type": "markdown",
   "metadata": {},
   "source": [
    "# Clase con metodo encapsulado"
   ]
  },
  {
   "cell_type": "code",
   "execution_count": 19,
   "metadata": {},
   "outputs": [],
   "source": [
    "class Coche_nuevo():\n",
    "\n",
    "    \n",
    "    #Constructor\n",
    "    #Dentro de el se encapsulan las variables para que no puedan ser\n",
    "    #modificadas desde fuera\n",
    "    def __init__(self):\n",
    "        #4 propiedades\n",
    "        self.__largoChasis = 250 \n",
    "        self.__anchoChasis = 120 \n",
    "        self.__ruedas = 4\n",
    "        self.__enmarcha = False \n",
    "\n",
    "    #Metodos (comportamientos)\n",
    "    \n",
    "    def arrancar(self,arrancamos):\n",
    "        self.__enmarcha = arrancamos\n",
    "\n",
    "        #Si se puso la llave de contacto o sea si se puso arrancar \n",
    "        #como True almacena en chequeo un True sino no es necesario\n",
    "        if (self.__enmarcha):\n",
    "            chequeo = self.__chequeo_interno()\n",
    "\n",
    "        #Si el en marcha es true y chequeo es true\n",
    "        if (self.__enmarcha and chequeo):\n",
    "            return 'El coche esta en marcha'\n",
    "        \n",
    "        #En caso de que en marcha sea true y algo del chequeo no funcione\n",
    "        elif (self.__enmarcha and chequeo==False):\n",
    "            return 'Algo ha ido mal en el chequeo no es posible arrancar'\n",
    "        \n",
    "        #En caso de que no se haya arrancado el coche\n",
    "        else:\n",
    "            return 'El coche esta parado'\n",
    "    \n",
    "    #Nos informa las propiedades del objeto coche\n",
    "    def estado(self):\n",
    "\n",
    "        #Ponemos los dos guiones bajos que preceden el nombre completo\n",
    "        print('El coche tiene',self.__ruedas,'ruedas')\n",
    "        print('El largo de chasis es de ',self.__largoChasis,' centimetros')\n",
    "        print('El ancho de chasis es de',self.__anchoChasis, 'centimetros')\n",
    "\n",
    "    def __chequeo_interno(self):\n",
    "        print('Realizando chequeo interno')\n",
    "        self.gasolina = 'ok'\n",
    "        self.aceite = 'ok'\n",
    "        self.puertas = 'cerradas'\n",
    "    \n",
    "        if (self.gasolina == 'ok' and self.aceite == 'ok' and self.puertas == 'cerradas'):\n",
    "            return True\n",
    "        else:\n",
    "            return False\n",
    "    \n",
    "\n"
   ]
  },
  {
   "cell_type": "code",
   "execution_count": 20,
   "metadata": {},
   "outputs": [],
   "source": [
    "nuevocoche = Coche_nuevo()"
   ]
  },
  {
   "cell_type": "code",
   "execution_count": 24,
   "metadata": {},
   "outputs": [
    {
     "ename": "AttributeError",
     "evalue": "'Coche_nuevo' object has no attribute '__chequeo_interno'",
     "output_type": "error",
     "traceback": [
      "\u001b[0;31m---------------------------------------------------------------------------\u001b[0m",
      "\u001b[0;31mAttributeError\u001b[0m                            Traceback (most recent call last)",
      "Cell \u001b[0;32mIn[24], line 1\u001b[0m\n\u001b[0;32m----> 1\u001b[0m nuevocoche\u001b[39m.\u001b[39;49m__chequeo_interno(\u001b[39mFalse\u001b[39;00m)\n",
      "\u001b[0;31mAttributeError\u001b[0m: 'Coche_nuevo' object has no attribute '__chequeo_interno'"
     ]
    }
   ],
   "source": [
    "nuevocoche.__chequeo_interno(False)"
   ]
  },
  {
   "cell_type": "code",
   "execution_count": null,
   "metadata": {},
   "outputs": [],
   "source": []
  }
 ],
 "metadata": {
  "kernelspec": {
   "display_name": "tesis",
   "language": "python",
   "name": "python3"
  },
  "language_info": {
   "codemirror_mode": {
    "name": "ipython",
    "version": 3
   },
   "file_extension": ".py",
   "mimetype": "text/x-python",
   "name": "python",
   "nbconvert_exporter": "python",
   "pygments_lexer": "ipython3",
   "version": "3.10.12"
  },
  "orig_nbformat": 4
 },
 "nbformat": 4,
 "nbformat_minor": 2
}
