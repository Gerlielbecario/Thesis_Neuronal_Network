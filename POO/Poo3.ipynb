{
 "cells": [
  {
   "cell_type": "markdown",
   "id": "1d2f9966",
   "metadata": {},
   "source": [
    "Se realizan modificaciones en el metodo  arrancar "
   ]
  },
  {
   "cell_type": "markdown",
   "id": "1dd27813",
   "metadata": {},
   "source": [
    "Se agregaran constructores:\n",
    "\n",
    "Un constructor: Es un metodo especial que le da estado inicial a los objetos\n",
    "\n",
    "¿Como lo construimos en python?\n",
    "\n",
    "* Usamos la palabra *def __init__(self):*"
   ]
  },
  {
   "cell_type": "code",
   "execution_count": 55,
   "id": "11ee9885",
   "metadata": {},
   "outputs": [],
   "source": [
    "class Coche():\n",
    "\n",
    "    #Constructor (estado inicial)\n",
    "\n",
    "    def __init__(self):\n",
    "        #tiene un self antes para que esten vinculadas con el objeto\n",
    "        #y no queden solamente definidas en init\n",
    "        self.largoChasis = 250 #primera propiedad de la clase coche\n",
    "        self.anchoChasis = 120 #propiedad 2\n",
    "        self.ruedas = 4\n",
    "        self.enmarcha = False #todos los coches estan detenidos\n",
    "\n",
    "    #Metodos (comportamientos)\n",
    "    \n",
    "    def arrancar(self,arrancamos):\n",
    "        self.enmarcha = arrancamos #hay que agregarle self adelante para poder cambiar la propiedad\n",
    "\n",
    "        if self.enmarcha:\n",
    "            return 'El coche esta en marcha'\n",
    "        else:\n",
    "            return 'El coche esta parado'\n",
    "    \n",
    "    #Nos informa las propiedades del objeto\n",
    "    def estado(self):\n",
    "        print('El coche tiene',self.ruedas,'ruedas')\n",
    "    \n",
    "    \n",
    "\n"
   ]
  },
  {
   "cell_type": "code",
   "execution_count": 56,
   "id": "844086c2",
   "metadata": {},
   "outputs": [
    {
     "name": "stdout",
     "output_type": "stream",
     "text": [
      "El coche esta en marcha\n",
      "El coche tiene 4 ruedas\n"
     ]
    }
   ],
   "source": [
    "#Instanciamos una clase o Ejemplarizar una clase\n",
    "micoche = Coche()\n",
    "\n",
    "print(micoche.arrancar(True))\n",
    "\n",
    "\n",
    "micoche.estado()\n",
    "\n"
   ]
  },
  {
   "cell_type": "markdown",
   "id": "ad8ec013",
   "metadata": {},
   "source": [
    "# Creamos nuestro segundo objeto"
   ]
  },
  {
   "cell_type": "markdown",
   "id": "a360d02b",
   "metadata": {},
   "source": [
    "Otro  objeto de la misma clase"
   ]
  },
  {
   "cell_type": "code",
   "execution_count": 59,
   "id": "f7ab048f",
   "metadata": {},
   "outputs": [
    {
     "name": "stdout",
     "output_type": "stream",
     "text": [
      "El coche esta parado\n",
      "El coche tiene 1 ruedas\n"
     ]
    }
   ],
   "source": [
    "micoche2 = Coche()\n",
    "print(micoche2.arrancar(False))\n",
    "\n",
    "#Pruebo cambiar la cantidad de ruedas \n",
    "#dado que el metodo no esta encapsulado puedo cambiarlo\n",
    "micoche2.ruedas = 1\n",
    "\n",
    "#Se imprime por pantalla que tengo 1 rueda\n",
    "micoche2.estado()"
   ]
  },
  {
   "cell_type": "markdown",
   "id": "37154430",
   "metadata": {},
   "source": [
    "# Concepto de encapsulacion\n",
    "\n",
    "Nos interesa poder encapsular variables, para que no podamos cambiar sus\n",
    "propiedades desde fuera de la clase\n",
    "\n",
    "* ¿como se encapsula? agregando dos guiones bajos"
   ]
  },
  {
   "cell_type": "code",
   "execution_count": 63,
   "id": "5ebfd478",
   "metadata": {},
   "outputs": [],
   "source": [
    "class Coche():\n",
    "\n",
    "    #Constructor (estado inicial)\n",
    "\n",
    "    def __init__(self):\n",
    "        #tiene un self antes para que esten vinculadas con el objeto\n",
    "        #y no queden solamente definidas en init\n",
    "        self.largoChasis = 250 #primera propiedad de la clase coche\n",
    "        self.anchoChasis = 120 #propiedad 2\n",
    "        self.__ruedas = 4\n",
    "        self.enmarcha = False #todos los coches estan detenidos\n",
    "\n",
    "    #Metodos (comportamientos)\n",
    "    \n",
    "    def arrancar(self,arrancamos):\n",
    "        self.enmarcha = arrancamos #hay que agregarle self adelante para poder cambiar la propiedad\n",
    "\n",
    "        if self.enmarcha:\n",
    "            return 'El coche esta en marcha'\n",
    "        else:\n",
    "            return 'El coche esta parado'\n",
    "    \n",
    "    #Nos informa las propiedades del objeto\n",
    "    def estado(self):\n",
    "\n",
    "        #Ponemos los dos guiones bajos que preceden el nombre completo\n",
    "        print('El coche tiene',self.__ruedas,'ruedas')\n",
    "    \n",
    "    \n",
    "\n"
   ]
  },
  {
   "cell_type": "code",
   "execution_count": 65,
   "id": "14f80556",
   "metadata": {},
   "outputs": [
    {
     "name": "stdout",
     "output_type": "stream",
     "text": [
      "El coche tiene 4 ruedas\n"
     ]
    }
   ],
   "source": [
    "micoche3 = Coche()\n",
    "micoche3.__ruedas = 1\n",
    "micoche3.estado()\n"
   ]
  },
  {
   "cell_type": "code",
   "execution_count": null,
   "id": "b1bf742b",
   "metadata": {},
   "outputs": [],
   "source": []
  }
 ],
 "metadata": {
  "kernelspec": {
   "display_name": "Python 3 (ipykernel)",
   "language": "python",
   "name": "python3"
  },
  "language_info": {
   "codemirror_mode": {
    "name": "ipython",
    "version": 3
   },
   "file_extension": ".py",
   "mimetype": "text/x-python",
   "name": "python",
   "nbconvert_exporter": "python",
   "pygments_lexer": "ipython3",
   "version": "3.10.12"
  }
 },
 "nbformat": 4,
 "nbformat_minor": 5
}
