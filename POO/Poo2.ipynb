{
 "cells": [
  {
   "cell_type": "markdown",
   "id": "643d02a0",
   "metadata": {},
   "source": [
    "# Construir una clase\n",
    "\n",
    "Esto sera la base para luego crear objetos, instancias o ejemplares"
   ]
  },
  {
   "cell_type": "markdown",
   "id": "a4eb9a8e",
   "metadata": {},
   "source": [
    "La primera letra en mayuscula (nose si siempre sera asi)\n",
    "\n",
    "Si recordamos la clase pasada un objeto tenia:\n",
    "* Estado\n",
    "* Propiedades\n",
    "* Comportamiento\n",
    "\n",
    "El comportamiento del que hablamos viene determinado por lo que denominamos métodos.\n",
    "\n",
    "Un metodo es un tipo de funcion especial que pertenece a una clase. Las funciones en si no pertenecen a ninguna clase\n",
    "\n",
    "¿Que caracteristicas especiales tiene un método? \n",
    "\n",
    "* Palabra reservada def, como en las funciones\n",
    "* Self: Parametro por defecto.Self hace referencia al propio objeto perteneciente a la clase. **Hace referencia a la instancia perteneciente a la clase**  Python nos obliga a ponerlo en todos los metodos que pertenecen a una clase como primer parametro obligatorio"
   ]
  },
  {
   "cell_type": "code",
   "execution_count": 2,
   "id": "11ee9885",
   "metadata": {},
   "outputs": [],
   "source": [
    "class Coche():\n",
    "\n",
    "    #Propiedades\n",
    "    largoChasis = 250 #primera propiedad de la clase coche\n",
    "    anchoChasis = 120 #propiedad 2\n",
    "    ruedas = 4\n",
    "    enmarcha = False #todos los coches estan detenidos\n",
    "\n",
    "    #Metodos (comportamientos)\n",
    "    def arrancar(self):\n",
    "        self.enmarcha = True #hay que agregarle self adelante para poder cambiar la propiedad\n",
    "\n",
    "    def estado(self):\n",
    "        if (self.enmarcha):\n",
    "            return 'El coche esta en marcha'\n",
    "        else:\n",
    "            return 'El coche esta parado'\n"
   ]
  },
  {
   "cell_type": "code",
   "execution_count": 3,
   "id": "b07ca94b",
   "metadata": {},
   "outputs": [],
   "source": [
    "#Instanciamos una clase o Ejemplarizar una clase\n",
    "micoche = Coche()"
   ]
  },
  {
   "cell_type": "code",
   "execution_count": 4,
   "id": "8254bcf7",
   "metadata": {},
   "outputs": [
    {
     "name": "stdout",
     "output_type": "stream",
     "text": [
      "250\n",
      "4\n"
     ]
    }
   ],
   "source": [
    "#Si nos interesa ver el largo \n",
    "print(micoche.largoChasis)\n",
    "\n",
    "#Si nos interesa ver ruedas\n",
    "print(micoche.ruedas)"
   ]
  },
  {
   "cell_type": "code",
   "execution_count": 5,
   "id": "b7ba6cf6",
   "metadata": {},
   "outputs": [],
   "source": [
    "micoche.arrancar()"
   ]
  },
  {
   "cell_type": "markdown",
   "id": "dc269bc2",
   "metadata": {},
   "source": [
    "¿Que es lo que ocurre cuando el interprete de python lee esa linea de codigo? \n",
    "\n",
    "Hay una llamada al metodo arrancar:\n",
    "* ¿Que recibe por parametro este metodo? \n",
    "    * Recibe el propio objeto\n",
    "        * Lo equivalente a decir : micoche.enmarcha = True"
   ]
  },
  {
   "cell_type": "code",
   "execution_count": 6,
   "id": "18dbe7fa",
   "metadata": {},
   "outputs": [
    {
     "name": "stdout",
     "output_type": "stream",
     "text": [
      "El coche esta en marcha\n"
     ]
    }
   ],
   "source": [
    "#verificamos el estado del coche\n",
    "print(micoche.estado())"
   ]
  },
  {
   "cell_type": "markdown",
   "id": "56a87ac3",
   "metadata": {},
   "source": [
    "Por el momento nuestra clase coche tiene:\n",
    "* 4 propiedades\n",
    "* 2 comportamientos"
   ]
  },
  {
   "cell_type": "markdown",
   "id": "ad8ec013",
   "metadata": {},
   "source": [
    "# Creamos nuestro segundo objeto"
   ]
  },
  {
   "cell_type": "markdown",
   "id": "a360d02b",
   "metadata": {},
   "source": [
    "Otro  objeto de la misma clase"
   ]
  },
  {
   "cell_type": "code",
   "execution_count": 9,
   "id": "f7ab048f",
   "metadata": {},
   "outputs": [
    {
     "data": {
      "text/plain": [
       "'El coche esta parado'"
      ]
     },
     "execution_count": 9,
     "metadata": {},
     "output_type": "execute_result"
    }
   ],
   "source": [
    "micoche2 = Coche()\n",
    "micoche2.estado()"
   ]
  },
  {
   "cell_type": "code",
   "execution_count": null,
   "id": "934e7d9d",
   "metadata": {},
   "outputs": [],
   "source": []
  },
  {
   "cell_type": "code",
   "execution_count": null,
   "id": "f09de5ab",
   "metadata": {},
   "outputs": [],
   "source": []
  }
 ],
 "metadata": {
  "kernelspec": {
   "display_name": "Python 3 (ipykernel)",
   "language": "python",
   "name": "python3"
  },
  "language_info": {
   "codemirror_mode": {
    "name": "ipython",
    "version": 3
   },
   "file_extension": ".py",
   "mimetype": "text/x-python",
   "name": "python",
   "nbconvert_exporter": "python",
   "pygments_lexer": "ipython3",
   "version": "3.10.12"
  }
 },
 "nbformat": 4,
 "nbformat_minor": 5
}
